{
  "nbformat": 4,
  "nbformat_minor": 0,
  "metadata": {
    "colab": {
      "name": "Prozhito TopicModeling.ipynb",
      "provenance": [],
      "authorship_tag": "ABX9TyPR5nTWpMUlgvcscBaNz37k"
    },
    "kernelspec": {
      "name": "python3",
      "display_name": "Python 3"
    },
    "language_info": {
      "name": "python"
    },
    "widgets": {
      "application/vnd.jupyter.widget-state+json": {
        "6b54775756c74828a92674c2c74968af": {
          "model_module": "@jupyter-widgets/controls",
          "model_name": "HBoxModel",
          "model_module_version": "1.5.0",
          "state": {
            "_dom_classes": [],
            "_model_module": "@jupyter-widgets/controls",
            "_model_module_version": "1.5.0",
            "_model_name": "HBoxModel",
            "_view_count": null,
            "_view_module": "@jupyter-widgets/controls",
            "_view_module_version": "1.5.0",
            "_view_name": "HBoxView",
            "box_style": "",
            "children": [
              "IPY_MODEL_dde97c89e7b64b798eb3207f35a008bd",
              "IPY_MODEL_facf01daa3ad4d718f06a57aa934317d",
              "IPY_MODEL_bcaa11161c10474f8ee3bd2e5432755c"
            ],
            "layout": "IPY_MODEL_6d162e16e9b547dba09bebb55c8572e2"
          }
        },
        "dde97c89e7b64b798eb3207f35a008bd": {
          "model_module": "@jupyter-widgets/controls",
          "model_name": "HTMLModel",
          "model_module_version": "1.5.0",
          "state": {
            "_dom_classes": [],
            "_model_module": "@jupyter-widgets/controls",
            "_model_module_version": "1.5.0",
            "_model_name": "HTMLModel",
            "_view_count": null,
            "_view_module": "@jupyter-widgets/controls",
            "_view_module_version": "1.5.0",
            "_view_name": "HTMLView",
            "description": "",
            "description_tooltip": null,
            "layout": "IPY_MODEL_338898d02dc04061950ee19c64ee6c4c",
            "placeholder": "​",
            "style": "IPY_MODEL_179ecbbce119427abc36bf77019162e1",
            "value": ""
          }
        },
        "facf01daa3ad4d718f06a57aa934317d": {
          "model_module": "@jupyter-widgets/controls",
          "model_name": "FloatProgressModel",
          "model_module_version": "1.5.0",
          "state": {
            "_dom_classes": [],
            "_model_module": "@jupyter-widgets/controls",
            "_model_module_version": "1.5.0",
            "_model_name": "FloatProgressModel",
            "_view_count": null,
            "_view_module": "@jupyter-widgets/controls",
            "_view_module_version": "1.5.0",
            "_view_name": "ProgressView",
            "bar_style": "success",
            "description": "",
            "description_tooltip": null,
            "layout": "IPY_MODEL_945b63fb46794e53b1e9a508665221fa",
            "max": 1,
            "min": 0,
            "orientation": "horizontal",
            "style": "IPY_MODEL_6d3908efb63d4664975519d1fe4230e0",
            "value": 1
          }
        },
        "bcaa11161c10474f8ee3bd2e5432755c": {
          "model_module": "@jupyter-widgets/controls",
          "model_name": "HTMLModel",
          "model_module_version": "1.5.0",
          "state": {
            "_dom_classes": [],
            "_model_module": "@jupyter-widgets/controls",
            "_model_module_version": "1.5.0",
            "_model_name": "HTMLModel",
            "_view_count": null,
            "_view_module": "@jupyter-widgets/controls",
            "_view_module_version": "1.5.0",
            "_view_name": "HTMLView",
            "description": "",
            "description_tooltip": null,
            "layout": "IPY_MODEL_d10e93ff7d274696a22f5b4ca063d250",
            "placeholder": "​",
            "style": "IPY_MODEL_dec897d0c7154ffdb0020c6b0c0127f3",
            "value": " 3/? [00:01&lt;00:00,  2.30it/s]"
          }
        },
        "6d162e16e9b547dba09bebb55c8572e2": {
          "model_module": "@jupyter-widgets/base",
          "model_name": "LayoutModel",
          "model_module_version": "1.2.0",
          "state": {
            "_model_module": "@jupyter-widgets/base",
            "_model_module_version": "1.2.0",
            "_model_name": "LayoutModel",
            "_view_count": null,
            "_view_module": "@jupyter-widgets/base",
            "_view_module_version": "1.2.0",
            "_view_name": "LayoutView",
            "align_content": null,
            "align_items": null,
            "align_self": null,
            "border": null,
            "bottom": null,
            "display": null,
            "flex": null,
            "flex_flow": null,
            "grid_area": null,
            "grid_auto_columns": null,
            "grid_auto_flow": null,
            "grid_auto_rows": null,
            "grid_column": null,
            "grid_gap": null,
            "grid_row": null,
            "grid_template_areas": null,
            "grid_template_columns": null,
            "grid_template_rows": null,
            "height": null,
            "justify_content": null,
            "justify_items": null,
            "left": null,
            "margin": null,
            "max_height": null,
            "max_width": null,
            "min_height": null,
            "min_width": null,
            "object_fit": null,
            "object_position": null,
            "order": null,
            "overflow": null,
            "overflow_x": null,
            "overflow_y": null,
            "padding": null,
            "right": null,
            "top": null,
            "visibility": null,
            "width": null
          }
        },
        "338898d02dc04061950ee19c64ee6c4c": {
          "model_module": "@jupyter-widgets/base",
          "model_name": "LayoutModel",
          "model_module_version": "1.2.0",
          "state": {
            "_model_module": "@jupyter-widgets/base",
            "_model_module_version": "1.2.0",
            "_model_name": "LayoutModel",
            "_view_count": null,
            "_view_module": "@jupyter-widgets/base",
            "_view_module_version": "1.2.0",
            "_view_name": "LayoutView",
            "align_content": null,
            "align_items": null,
            "align_self": null,
            "border": null,
            "bottom": null,
            "display": null,
            "flex": null,
            "flex_flow": null,
            "grid_area": null,
            "grid_auto_columns": null,
            "grid_auto_flow": null,
            "grid_auto_rows": null,
            "grid_column": null,
            "grid_gap": null,
            "grid_row": null,
            "grid_template_areas": null,
            "grid_template_columns": null,
            "grid_template_rows": null,
            "height": null,
            "justify_content": null,
            "justify_items": null,
            "left": null,
            "margin": null,
            "max_height": null,
            "max_width": null,
            "min_height": null,
            "min_width": null,
            "object_fit": null,
            "object_position": null,
            "order": null,
            "overflow": null,
            "overflow_x": null,
            "overflow_y": null,
            "padding": null,
            "right": null,
            "top": null,
            "visibility": null,
            "width": null
          }
        },
        "179ecbbce119427abc36bf77019162e1": {
          "model_module": "@jupyter-widgets/controls",
          "model_name": "DescriptionStyleModel",
          "model_module_version": "1.5.0",
          "state": {
            "_model_module": "@jupyter-widgets/controls",
            "_model_module_version": "1.5.0",
            "_model_name": "DescriptionStyleModel",
            "_view_count": null,
            "_view_module": "@jupyter-widgets/base",
            "_view_module_version": "1.2.0",
            "_view_name": "StyleView",
            "description_width": ""
          }
        },
        "945b63fb46794e53b1e9a508665221fa": {
          "model_module": "@jupyter-widgets/base",
          "model_name": "LayoutModel",
          "model_module_version": "1.2.0",
          "state": {
            "_model_module": "@jupyter-widgets/base",
            "_model_module_version": "1.2.0",
            "_model_name": "LayoutModel",
            "_view_count": null,
            "_view_module": "@jupyter-widgets/base",
            "_view_module_version": "1.2.0",
            "_view_name": "LayoutView",
            "align_content": null,
            "align_items": null,
            "align_self": null,
            "border": null,
            "bottom": null,
            "display": null,
            "flex": null,
            "flex_flow": null,
            "grid_area": null,
            "grid_auto_columns": null,
            "grid_auto_flow": null,
            "grid_auto_rows": null,
            "grid_column": null,
            "grid_gap": null,
            "grid_row": null,
            "grid_template_areas": null,
            "grid_template_columns": null,
            "grid_template_rows": null,
            "height": null,
            "justify_content": null,
            "justify_items": null,
            "left": null,
            "margin": null,
            "max_height": null,
            "max_width": null,
            "min_height": null,
            "min_width": null,
            "object_fit": null,
            "object_position": null,
            "order": null,
            "overflow": null,
            "overflow_x": null,
            "overflow_y": null,
            "padding": null,
            "right": null,
            "top": null,
            "visibility": null,
            "width": "20px"
          }
        },
        "6d3908efb63d4664975519d1fe4230e0": {
          "model_module": "@jupyter-widgets/controls",
          "model_name": "ProgressStyleModel",
          "model_module_version": "1.5.0",
          "state": {
            "_model_module": "@jupyter-widgets/controls",
            "_model_module_version": "1.5.0",
            "_model_name": "ProgressStyleModel",
            "_view_count": null,
            "_view_module": "@jupyter-widgets/base",
            "_view_module_version": "1.2.0",
            "_view_name": "StyleView",
            "bar_color": null,
            "description_width": ""
          }
        },
        "d10e93ff7d274696a22f5b4ca063d250": {
          "model_module": "@jupyter-widgets/base",
          "model_name": "LayoutModel",
          "model_module_version": "1.2.0",
          "state": {
            "_model_module": "@jupyter-widgets/base",
            "_model_module_version": "1.2.0",
            "_model_name": "LayoutModel",
            "_view_count": null,
            "_view_module": "@jupyter-widgets/base",
            "_view_module_version": "1.2.0",
            "_view_name": "LayoutView",
            "align_content": null,
            "align_items": null,
            "align_self": null,
            "border": null,
            "bottom": null,
            "display": null,
            "flex": null,
            "flex_flow": null,
            "grid_area": null,
            "grid_auto_columns": null,
            "grid_auto_flow": null,
            "grid_auto_rows": null,
            "grid_column": null,
            "grid_gap": null,
            "grid_row": null,
            "grid_template_areas": null,
            "grid_template_columns": null,
            "grid_template_rows": null,
            "height": null,
            "justify_content": null,
            "justify_items": null,
            "left": null,
            "margin": null,
            "max_height": null,
            "max_width": null,
            "min_height": null,
            "min_width": null,
            "object_fit": null,
            "object_position": null,
            "order": null,
            "overflow": null,
            "overflow_x": null,
            "overflow_y": null,
            "padding": null,
            "right": null,
            "top": null,
            "visibility": null,
            "width": null
          }
        },
        "dec897d0c7154ffdb0020c6b0c0127f3": {
          "model_module": "@jupyter-widgets/controls",
          "model_name": "DescriptionStyleModel",
          "model_module_version": "1.5.0",
          "state": {
            "_model_module": "@jupyter-widgets/controls",
            "_model_module_version": "1.5.0",
            "_model_name": "DescriptionStyleModel",
            "_view_count": null,
            "_view_module": "@jupyter-widgets/base",
            "_view_module_version": "1.2.0",
            "_view_name": "StyleView",
            "description_width": ""
          }
        }
      }
    }
  },
  "cells": [
    {
      "cell_type": "code",
      "execution_count": 3,
      "metadata": {
        "id": "VvwtAdiDuEL8",
        "colab": {
          "base_uri": "https://localhost:8080/"
        },
        "outputId": "59bfe58b-277e-46b4-831d-f578b7ab4364"
      },
      "outputs": [
        {
          "output_type": "stream",
          "name": "stdout",
          "text": [
            "The pycodestyle_magic extension is already loaded. To reload it, use:\n",
            "  %reload_ext pycodestyle_magic\n"
          ]
        }
      ],
      "source": [
        "from google.colab import files\n",
        "from IPython.display import clear_output\n",
        "!pip install pycodestyle pycodestyle_magic\n",
        "!pip install flake8\n",
        "clear_output()\n",
        "%load_ext pycodestyle_magic\n",
        "!pip install -U -q PyDrive\n",
        "from pydrive.auth import GoogleAuth\n",
        "from pydrive.drive import GoogleDrive\n",
        "from google.colab import auth\n",
        "from oauth2client.client import GoogleCredentials\n",
        "auth.authenticate_user()\n",
        "gauth = GoogleAuth()\n",
        "gauth.credentials = GoogleCredentials.get_application_default()\n",
        "drive = GoogleDrive(gauth)"
      ]
    },
    {
      "cell_type": "code",
      "source": [
        "import re\n",
        "import nltk\n",
        "import joblib\n",
        "\n",
        "import pandas as pd\n",
        "import numpy as np\n",
        "\n",
        "from pprint import pprint\n",
        "from ast import literal_eval\n",
        "from datetime import datetime\n",
        "\n",
        "from tqdm.notebook import tqdm\n",
        "\n",
        "from nltk.corpus import stopwords\n",
        "\n",
        "from gensim.corpora import Dictionary\n",
        "from gensim.models.ldamodel import LdaModel"
      ],
      "metadata": {
        "id": "mPIWvxr_8Qax"
      },
      "execution_count": 4,
      "outputs": []
    },
    {
      "cell_type": "code",
      "source": [
        "whole_table_with_lemm = drive.CreateFile(\n",
        "    {'id': '1RD1lvRV3oHrWfI9igZBqQYlY0fLWjpa7'})\n",
        "whole_table_with_lemm.GetContentFile('whole_table_with_lemm.csv')"
      ],
      "metadata": {
        "id": "9uJqvWej71Fo"
      },
      "execution_count": 5,
      "outputs": []
    },
    {
      "cell_type": "code",
      "source": [
        "pd.options.display.max_colwidth = 100"
      ],
      "metadata": {
        "id": "xB7R-eOs8XE4"
      },
      "execution_count": 6,
      "outputs": []
    },
    {
      "cell_type": "code",
      "source": [
        "nltk.download('stopwords')"
      ],
      "metadata": {
        "colab": {
          "base_uri": "https://localhost:8080/"
        },
        "id": "gpAm8F2E8aPC",
        "outputId": "dad6d2c5-6a7d-4bf3-f552-764f068e82f5"
      },
      "execution_count": 7,
      "outputs": [
        {
          "output_type": "stream",
          "name": "stdout",
          "text": [
            "[nltk_data] Downloading package stopwords to /root/nltk_data...\n",
            "[nltk_data]   Unzipping corpora/stopwords.zip.\n"
          ]
        },
        {
          "output_type": "execute_result",
          "data": {
            "text/plain": [
              "True"
            ]
          },
          "metadata": {},
          "execution_count": 7
        }
      ]
    },
    {
      "cell_type": "code",
      "source": [
        "stop_words = set(stopwords.words('russian'))\n",
        "new_stop_words = {\n",
        "    'ваш', 'весь', 'который', 'наш', 'очень', 'самый', 'свой', 'твой', 'это'\n",
        "    }\n",
        "\n",
        "stop_words |= new_stop_words\n",
        "len(stop_words)"
      ],
      "metadata": {
        "colab": {
          "base_uri": "https://localhost:8080/"
        },
        "id": "_L_b_I2Q8jyR",
        "outputId": "3a865480-3774-4f0d-a7be-13f439e6a6ef"
      },
      "execution_count": 8,
      "outputs": [
        {
          "output_type": "execute_result",
          "data": {
            "text/plain": [
              "160"
            ]
          },
          "metadata": {},
          "execution_count": 8
        }
      ]
    },
    {
      "cell_type": "code",
      "source": [
        "def date_parser(date):\n",
        "    if date and re.match(r'^(19|20)\\d{2}/[1-9]\\d?/[1-9]\\d?$', date):\n",
        "        date_split = [int(elem) for elem in date.split('/')]\n",
        "        if date_split[0] >= 1939 and date_split[0] <= 1953:\n",
        "            return datetime(year=date_split[0],\n",
        "                            month=date_split[1],\n",
        "                            day=date_split[2])\n",
        "    return np.nan"
      ],
      "metadata": {
        "id": "EVIWpU_Z9BNB"
      },
      "execution_count": 9,
      "outputs": []
    },
    {
      "cell_type": "code",
      "source": [
        "df = pd.read_csv('whole_table_with_lemm.csv', sep='\\t', index_col=0,\n",
        "                 usecols=[0, 2, 3], parse_dates=['dates'],\n",
        "                 date_parser=date_parser).rename(\n",
        "                     columns={'notes\\n': 'lemm', 'dates': 'date'})"
      ],
      "metadata": {
        "id": "n2CGYES69aV4"
      },
      "execution_count": 10,
      "outputs": []
    },
    {
      "cell_type": "code",
      "source": [
        "df.head()"
      ],
      "metadata": {
        "colab": {
          "base_uri": "https://localhost:8080/",
          "height": 206
        },
        "id": "nFtpb2ur9md4",
        "outputId": "7a573150-6a88-44ac-dc18-b4d966b08eae"
      },
      "execution_count": 11,
      "outputs": [
        {
          "output_type": "execute_result",
          "data": {
            "text/plain": [
              "                                                                                                  lemm  \\\n",
              "0  воскресение.    \\nвчера приезжать слава навещать мать в бол-це, но слезать с поезд в толмачев, г...   \n",
              "1  ночь мы достигать банка антон-дорн, в датский пролив (между исландия и гренландия). утро погода ...   \n",
              "2                                                                   суббота. москва. ехать в селище.\\n   \n",
              "3  18 август его королевский величество отправляться из вильна в орша. в тот же день, высылать пере...   \n",
              "4                    на следующий день, 19 август, прибывать в остров, где не быть никакой известие.\\n   \n",
              "\n",
              "  date  \n",
              "0  NaT  \n",
              "1  NaT  \n",
              "2  NaT  \n",
              "3  NaT  \n",
              "4  NaT  "
            ],
            "text/html": [
              "\n",
              "  <div id=\"df-1063277e-3ea0-4b16-a1eb-928a4a0f6b52\">\n",
              "    <div class=\"colab-df-container\">\n",
              "      <div>\n",
              "<style scoped>\n",
              "    .dataframe tbody tr th:only-of-type {\n",
              "        vertical-align: middle;\n",
              "    }\n",
              "\n",
              "    .dataframe tbody tr th {\n",
              "        vertical-align: top;\n",
              "    }\n",
              "\n",
              "    .dataframe thead th {\n",
              "        text-align: right;\n",
              "    }\n",
              "</style>\n",
              "<table border=\"1\" class=\"dataframe\">\n",
              "  <thead>\n",
              "    <tr style=\"text-align: right;\">\n",
              "      <th></th>\n",
              "      <th>lemm</th>\n",
              "      <th>date</th>\n",
              "    </tr>\n",
              "  </thead>\n",
              "  <tbody>\n",
              "    <tr>\n",
              "      <th>0</th>\n",
              "      <td>воскресение.    \\nвчера приезжать слава навещать мать в бол-це, но слезать с поезд в толмачев, г...</td>\n",
              "      <td>NaT</td>\n",
              "    </tr>\n",
              "    <tr>\n",
              "      <th>1</th>\n",
              "      <td>ночь мы достигать банка антон-дорн, в датский пролив (между исландия и гренландия). утро погода ...</td>\n",
              "      <td>NaT</td>\n",
              "    </tr>\n",
              "    <tr>\n",
              "      <th>2</th>\n",
              "      <td>суббота. москва. ехать в селище.\\n</td>\n",
              "      <td>NaT</td>\n",
              "    </tr>\n",
              "    <tr>\n",
              "      <th>3</th>\n",
              "      <td>18 август его королевский величество отправляться из вильна в орша. в тот же день, высылать пере...</td>\n",
              "      <td>NaT</td>\n",
              "    </tr>\n",
              "    <tr>\n",
              "      <th>4</th>\n",
              "      <td>на следующий день, 19 август, прибывать в остров, где не быть никакой известие.\\n</td>\n",
              "      <td>NaT</td>\n",
              "    </tr>\n",
              "  </tbody>\n",
              "</table>\n",
              "</div>\n",
              "      <button class=\"colab-df-convert\" onclick=\"convertToInteractive('df-1063277e-3ea0-4b16-a1eb-928a4a0f6b52')\"\n",
              "              title=\"Convert this dataframe to an interactive table.\"\n",
              "              style=\"display:none;\">\n",
              "        \n",
              "  <svg xmlns=\"http://www.w3.org/2000/svg\" height=\"24px\"viewBox=\"0 0 24 24\"\n",
              "       width=\"24px\">\n",
              "    <path d=\"M0 0h24v24H0V0z\" fill=\"none\"/>\n",
              "    <path d=\"M18.56 5.44l.94 2.06.94-2.06 2.06-.94-2.06-.94-.94-2.06-.94 2.06-2.06.94zm-11 1L8.5 8.5l.94-2.06 2.06-.94-2.06-.94L8.5 2.5l-.94 2.06-2.06.94zm10 10l.94 2.06.94-2.06 2.06-.94-2.06-.94-.94-2.06-.94 2.06-2.06.94z\"/><path d=\"M17.41 7.96l-1.37-1.37c-.4-.4-.92-.59-1.43-.59-.52 0-1.04.2-1.43.59L10.3 9.45l-7.72 7.72c-.78.78-.78 2.05 0 2.83L4 21.41c.39.39.9.59 1.41.59.51 0 1.02-.2 1.41-.59l7.78-7.78 2.81-2.81c.8-.78.8-2.07 0-2.86zM5.41 20L4 18.59l7.72-7.72 1.47 1.35L5.41 20z\"/>\n",
              "  </svg>\n",
              "      </button>\n",
              "      \n",
              "  <style>\n",
              "    .colab-df-container {\n",
              "      display:flex;\n",
              "      flex-wrap:wrap;\n",
              "      gap: 12px;\n",
              "    }\n",
              "\n",
              "    .colab-df-convert {\n",
              "      background-color: #E8F0FE;\n",
              "      border: none;\n",
              "      border-radius: 50%;\n",
              "      cursor: pointer;\n",
              "      display: none;\n",
              "      fill: #1967D2;\n",
              "      height: 32px;\n",
              "      padding: 0 0 0 0;\n",
              "      width: 32px;\n",
              "    }\n",
              "\n",
              "    .colab-df-convert:hover {\n",
              "      background-color: #E2EBFA;\n",
              "      box-shadow: 0px 1px 2px rgba(60, 64, 67, 0.3), 0px 1px 3px 1px rgba(60, 64, 67, 0.15);\n",
              "      fill: #174EA6;\n",
              "    }\n",
              "\n",
              "    [theme=dark] .colab-df-convert {\n",
              "      background-color: #3B4455;\n",
              "      fill: #D2E3FC;\n",
              "    }\n",
              "\n",
              "    [theme=dark] .colab-df-convert:hover {\n",
              "      background-color: #434B5C;\n",
              "      box-shadow: 0px 1px 3px 1px rgba(0, 0, 0, 0.15);\n",
              "      filter: drop-shadow(0px 1px 2px rgba(0, 0, 0, 0.3));\n",
              "      fill: #FFFFFF;\n",
              "    }\n",
              "  </style>\n",
              "\n",
              "      <script>\n",
              "        const buttonEl =\n",
              "          document.querySelector('#df-1063277e-3ea0-4b16-a1eb-928a4a0f6b52 button.colab-df-convert');\n",
              "        buttonEl.style.display =\n",
              "          google.colab.kernel.accessAllowed ? 'block' : 'none';\n",
              "\n",
              "        async function convertToInteractive(key) {\n",
              "          const element = document.querySelector('#df-1063277e-3ea0-4b16-a1eb-928a4a0f6b52');\n",
              "          const dataTable =\n",
              "            await google.colab.kernel.invokeFunction('convertToInteractive',\n",
              "                                                     [key], {});\n",
              "          if (!dataTable) return;\n",
              "\n",
              "          const docLinkHtml = 'Like what you see? Visit the ' +\n",
              "            '<a target=\"_blank\" href=https://colab.research.google.com/notebooks/data_table.ipynb>data table notebook</a>'\n",
              "            + ' to learn more about interactive tables.';\n",
              "          element.innerHTML = '';\n",
              "          dataTable['output_type'] = 'display_data';\n",
              "          await google.colab.output.renderOutput(dataTable, element);\n",
              "          const docLink = document.createElement('div');\n",
              "          docLink.innerHTML = docLinkHtml;\n",
              "          element.appendChild(docLink);\n",
              "        }\n",
              "      </script>\n",
              "    </div>\n",
              "  </div>\n",
              "  "
            ]
          },
          "metadata": {},
          "execution_count": 11
        }
      ]
    },
    {
      "cell_type": "code",
      "source": [
        "df = df.dropna().set_index('date')"
      ],
      "metadata": {
        "id": "hxkqwrTT9zwQ"
      },
      "execution_count": 12,
      "outputs": []
    },
    {
      "cell_type": "code",
      "source": [
        "df.head()"
      ],
      "metadata": {
        "colab": {
          "base_uri": "https://localhost:8080/",
          "height": 238
        },
        "id": "y1nU6TgZ92EY",
        "outputId": "dc9f5c0e-f954-413e-afd9-7952082b7e7a"
      },
      "execution_count": 13,
      "outputs": [
        {
          "output_type": "execute_result",
          "data": {
            "text/plain": [
              "                                                                                                           lemm\n",
              "date                                                                                                           \n",
              "1939-01-01  вчера: елка зажигать. сергей ликовать. борис робертович приносить французский шампанское, на зво...\n",
              "1939-01-01  январь 39 г. хотеть свой опыт по объект «вредительство» продолжать далее, быть еще ванна «гоган»...\n",
              "1939-01-01  новогодний состояние. пошлый мысль.    \\nбыть б. ш. как всегда с интерес болтать.    \\nчитать ил...\n",
              "1939-01-01  кроме один день (2-го, когда быть у парикмахер и зубной врач), сидеть дома и писать «восточный в...\n",
              "1939-01-01  делать журнал для экспорт. ходить и возмущаться, весь начальник говорить неприятность. а не гово..."
            ],
            "text/html": [
              "\n",
              "  <div id=\"df-2e98aa98-d5ea-4488-a229-e3f96a7608bb\">\n",
              "    <div class=\"colab-df-container\">\n",
              "      <div>\n",
              "<style scoped>\n",
              "    .dataframe tbody tr th:only-of-type {\n",
              "        vertical-align: middle;\n",
              "    }\n",
              "\n",
              "    .dataframe tbody tr th {\n",
              "        vertical-align: top;\n",
              "    }\n",
              "\n",
              "    .dataframe thead th {\n",
              "        text-align: right;\n",
              "    }\n",
              "</style>\n",
              "<table border=\"1\" class=\"dataframe\">\n",
              "  <thead>\n",
              "    <tr style=\"text-align: right;\">\n",
              "      <th></th>\n",
              "      <th>lemm</th>\n",
              "    </tr>\n",
              "    <tr>\n",
              "      <th>date</th>\n",
              "      <th></th>\n",
              "    </tr>\n",
              "  </thead>\n",
              "  <tbody>\n",
              "    <tr>\n",
              "      <th>1939-01-01</th>\n",
              "      <td>вчера: елка зажигать. сергей ликовать. борис робертович приносить французский шампанское, на зво...</td>\n",
              "    </tr>\n",
              "    <tr>\n",
              "      <th>1939-01-01</th>\n",
              "      <td>январь 39 г. хотеть свой опыт по объект «вредительство» продолжать далее, быть еще ванна «гоган»...</td>\n",
              "    </tr>\n",
              "    <tr>\n",
              "      <th>1939-01-01</th>\n",
              "      <td>новогодний состояние. пошлый мысль.    \\nбыть б. ш. как всегда с интерес болтать.    \\nчитать ил...</td>\n",
              "    </tr>\n",
              "    <tr>\n",
              "      <th>1939-01-01</th>\n",
              "      <td>кроме один день (2-го, когда быть у парикмахер и зубной врач), сидеть дома и писать «восточный в...</td>\n",
              "    </tr>\n",
              "    <tr>\n",
              "      <th>1939-01-01</th>\n",
              "      <td>делать журнал для экспорт. ходить и возмущаться, весь начальник говорить неприятность. а не гово...</td>\n",
              "    </tr>\n",
              "  </tbody>\n",
              "</table>\n",
              "</div>\n",
              "      <button class=\"colab-df-convert\" onclick=\"convertToInteractive('df-2e98aa98-d5ea-4488-a229-e3f96a7608bb')\"\n",
              "              title=\"Convert this dataframe to an interactive table.\"\n",
              "              style=\"display:none;\">\n",
              "        \n",
              "  <svg xmlns=\"http://www.w3.org/2000/svg\" height=\"24px\"viewBox=\"0 0 24 24\"\n",
              "       width=\"24px\">\n",
              "    <path d=\"M0 0h24v24H0V0z\" fill=\"none\"/>\n",
              "    <path d=\"M18.56 5.44l.94 2.06.94-2.06 2.06-.94-2.06-.94-.94-2.06-.94 2.06-2.06.94zm-11 1L8.5 8.5l.94-2.06 2.06-.94-2.06-.94L8.5 2.5l-.94 2.06-2.06.94zm10 10l.94 2.06.94-2.06 2.06-.94-2.06-.94-.94-2.06-.94 2.06-2.06.94z\"/><path d=\"M17.41 7.96l-1.37-1.37c-.4-.4-.92-.59-1.43-.59-.52 0-1.04.2-1.43.59L10.3 9.45l-7.72 7.72c-.78.78-.78 2.05 0 2.83L4 21.41c.39.39.9.59 1.41.59.51 0 1.02-.2 1.41-.59l7.78-7.78 2.81-2.81c.8-.78.8-2.07 0-2.86zM5.41 20L4 18.59l7.72-7.72 1.47 1.35L5.41 20z\"/>\n",
              "  </svg>\n",
              "      </button>\n",
              "      \n",
              "  <style>\n",
              "    .colab-df-container {\n",
              "      display:flex;\n",
              "      flex-wrap:wrap;\n",
              "      gap: 12px;\n",
              "    }\n",
              "\n",
              "    .colab-df-convert {\n",
              "      background-color: #E8F0FE;\n",
              "      border: none;\n",
              "      border-radius: 50%;\n",
              "      cursor: pointer;\n",
              "      display: none;\n",
              "      fill: #1967D2;\n",
              "      height: 32px;\n",
              "      padding: 0 0 0 0;\n",
              "      width: 32px;\n",
              "    }\n",
              "\n",
              "    .colab-df-convert:hover {\n",
              "      background-color: #E2EBFA;\n",
              "      box-shadow: 0px 1px 2px rgba(60, 64, 67, 0.3), 0px 1px 3px 1px rgba(60, 64, 67, 0.15);\n",
              "      fill: #174EA6;\n",
              "    }\n",
              "\n",
              "    [theme=dark] .colab-df-convert {\n",
              "      background-color: #3B4455;\n",
              "      fill: #D2E3FC;\n",
              "    }\n",
              "\n",
              "    [theme=dark] .colab-df-convert:hover {\n",
              "      background-color: #434B5C;\n",
              "      box-shadow: 0px 1px 3px 1px rgba(0, 0, 0, 0.15);\n",
              "      filter: drop-shadow(0px 1px 2px rgba(0, 0, 0, 0.3));\n",
              "      fill: #FFFFFF;\n",
              "    }\n",
              "  </style>\n",
              "\n",
              "      <script>\n",
              "        const buttonEl =\n",
              "          document.querySelector('#df-2e98aa98-d5ea-4488-a229-e3f96a7608bb button.colab-df-convert');\n",
              "        buttonEl.style.display =\n",
              "          google.colab.kernel.accessAllowed ? 'block' : 'none';\n",
              "\n",
              "        async function convertToInteractive(key) {\n",
              "          const element = document.querySelector('#df-2e98aa98-d5ea-4488-a229-e3f96a7608bb');\n",
              "          const dataTable =\n",
              "            await google.colab.kernel.invokeFunction('convertToInteractive',\n",
              "                                                     [key], {});\n",
              "          if (!dataTable) return;\n",
              "\n",
              "          const docLinkHtml = 'Like what you see? Visit the ' +\n",
              "            '<a target=\"_blank\" href=https://colab.research.google.com/notebooks/data_table.ipynb>data table notebook</a>'\n",
              "            + ' to learn more about interactive tables.';\n",
              "          element.innerHTML = '';\n",
              "          dataTable['output_type'] = 'display_data';\n",
              "          await google.colab.output.renderOutput(dataTable, element);\n",
              "          const docLink = document.createElement('div');\n",
              "          docLink.innerHTML = docLinkHtml;\n",
              "          element.appendChild(docLink);\n",
              "        }\n",
              "      </script>\n",
              "    </div>\n",
              "  </div>\n",
              "  "
            ]
          },
          "metadata": {},
          "execution_count": 13
        }
      ]
    },
    {
      "cell_type": "code",
      "source": [
        "regex = r'[!\\\"#$%&\\'()*+,\\-./:;<=>?@[\\\\\\]^_`{|}~— \\n\\d\\xa0«»–❉№°]+'"
      ],
      "metadata": {
        "id": "LDJGHv57-C5a"
      },
      "execution_count": 14,
      "outputs": []
    },
    {
      "cell_type": "code",
      "source": [
        "non_words = {\n",
        "    'аа', 'ак', 'ап', 'аран', 'бол', 'го', 'игада', 'олхо', 'оп', 'отд', 'ошай', 'пог'\n",
        "    }"
      ],
      "metadata": {
        "id": "ayc8r0sR-uVg"
      },
      "execution_count": 15,
      "outputs": []
    },
    {
      "cell_type": "code",
      "source": [
        "def tokenization(text):\n",
        "    return [elem for elem in re.split(regex, text.lower())\n",
        "            if len(elem) > 1 \n",
        "            and elem not in stop_words \n",
        "            and elem not in non_words \n",
        "            and elem not in ['id', 'com']]"
      ],
      "metadata": {
        "id": "PbKeIefe-zdp"
      },
      "execution_count": 17,
      "outputs": []
    },
    {
      "cell_type": "code",
      "source": [
        "df['lemm'] = df['lemm'].apply(tokenization)"
      ],
      "metadata": {
        "id": "aMYObxLg-2Oz"
      },
      "execution_count": 18,
      "outputs": []
    },
    {
      "cell_type": "code",
      "source": [
        "df.head()"
      ],
      "metadata": {
        "colab": {
          "base_uri": "https://localhost:8080/",
          "height": 238
        },
        "id": "G5YhvsKx-32o",
        "outputId": "803358d1-da11-4984-d9bc-3feb93153975"
      },
      "execution_count": 20,
      "outputs": [
        {
          "output_type": "execute_result",
          "data": {
            "text/plain": [
              "                                                                                                           lemm\n",
              "date                                                                                                           \n",
              "1939-01-01  [вчера, елка, зажигать, сергей, ликовать, борис, робертович, приносить, французский, шампанское,...\n",
              "1939-01-01  [январь, хотеть, опыт, объект, вредительство, продолжать, далее, ванна, гоган, калка, пружина, х...\n",
              "1939-01-01  [новогодний, состояние, пошлый, мысль, интерес, болтать, читать, ильф, петров, полибия, удачный,...\n",
              "1939-01-01  [кроме, день, парикмахер, зубной, врач, сидеть, дома, писать, восточный, война, страдать, грипп,...\n",
              "1939-01-01  [делать, журнал, экспорт, ходить, возмущаться, начальник, говорить, неприятность, говорить, рабо..."
            ],
            "text/html": [
              "\n",
              "  <div id=\"df-ac69a767-6005-4971-a6d5-1668c5a09b82\">\n",
              "    <div class=\"colab-df-container\">\n",
              "      <div>\n",
              "<style scoped>\n",
              "    .dataframe tbody tr th:only-of-type {\n",
              "        vertical-align: middle;\n",
              "    }\n",
              "\n",
              "    .dataframe tbody tr th {\n",
              "        vertical-align: top;\n",
              "    }\n",
              "\n",
              "    .dataframe thead th {\n",
              "        text-align: right;\n",
              "    }\n",
              "</style>\n",
              "<table border=\"1\" class=\"dataframe\">\n",
              "  <thead>\n",
              "    <tr style=\"text-align: right;\">\n",
              "      <th></th>\n",
              "      <th>lemm</th>\n",
              "    </tr>\n",
              "    <tr>\n",
              "      <th>date</th>\n",
              "      <th></th>\n",
              "    </tr>\n",
              "  </thead>\n",
              "  <tbody>\n",
              "    <tr>\n",
              "      <th>1939-01-01</th>\n",
              "      <td>[вчера, елка, зажигать, сергей, ликовать, борис, робертович, приносить, французский, шампанское,...</td>\n",
              "    </tr>\n",
              "    <tr>\n",
              "      <th>1939-01-01</th>\n",
              "      <td>[январь, хотеть, опыт, объект, вредительство, продолжать, далее, ванна, гоган, калка, пружина, х...</td>\n",
              "    </tr>\n",
              "    <tr>\n",
              "      <th>1939-01-01</th>\n",
              "      <td>[новогодний, состояние, пошлый, мысль, интерес, болтать, читать, ильф, петров, полибия, удачный,...</td>\n",
              "    </tr>\n",
              "    <tr>\n",
              "      <th>1939-01-01</th>\n",
              "      <td>[кроме, день, парикмахер, зубной, врач, сидеть, дома, писать, восточный, война, страдать, грипп,...</td>\n",
              "    </tr>\n",
              "    <tr>\n",
              "      <th>1939-01-01</th>\n",
              "      <td>[делать, журнал, экспорт, ходить, возмущаться, начальник, говорить, неприятность, говорить, рабо...</td>\n",
              "    </tr>\n",
              "  </tbody>\n",
              "</table>\n",
              "</div>\n",
              "      <button class=\"colab-df-convert\" onclick=\"convertToInteractive('df-ac69a767-6005-4971-a6d5-1668c5a09b82')\"\n",
              "              title=\"Convert this dataframe to an interactive table.\"\n",
              "              style=\"display:none;\">\n",
              "        \n",
              "  <svg xmlns=\"http://www.w3.org/2000/svg\" height=\"24px\"viewBox=\"0 0 24 24\"\n",
              "       width=\"24px\">\n",
              "    <path d=\"M0 0h24v24H0V0z\" fill=\"none\"/>\n",
              "    <path d=\"M18.56 5.44l.94 2.06.94-2.06 2.06-.94-2.06-.94-.94-2.06-.94 2.06-2.06.94zm-11 1L8.5 8.5l.94-2.06 2.06-.94-2.06-.94L8.5 2.5l-.94 2.06-2.06.94zm10 10l.94 2.06.94-2.06 2.06-.94-2.06-.94-.94-2.06-.94 2.06-2.06.94z\"/><path d=\"M17.41 7.96l-1.37-1.37c-.4-.4-.92-.59-1.43-.59-.52 0-1.04.2-1.43.59L10.3 9.45l-7.72 7.72c-.78.78-.78 2.05 0 2.83L4 21.41c.39.39.9.59 1.41.59.51 0 1.02-.2 1.41-.59l7.78-7.78 2.81-2.81c.8-.78.8-2.07 0-2.86zM5.41 20L4 18.59l7.72-7.72 1.47 1.35L5.41 20z\"/>\n",
              "  </svg>\n",
              "      </button>\n",
              "      \n",
              "  <style>\n",
              "    .colab-df-container {\n",
              "      display:flex;\n",
              "      flex-wrap:wrap;\n",
              "      gap: 12px;\n",
              "    }\n",
              "\n",
              "    .colab-df-convert {\n",
              "      background-color: #E8F0FE;\n",
              "      border: none;\n",
              "      border-radius: 50%;\n",
              "      cursor: pointer;\n",
              "      display: none;\n",
              "      fill: #1967D2;\n",
              "      height: 32px;\n",
              "      padding: 0 0 0 0;\n",
              "      width: 32px;\n",
              "    }\n",
              "\n",
              "    .colab-df-convert:hover {\n",
              "      background-color: #E2EBFA;\n",
              "      box-shadow: 0px 1px 2px rgba(60, 64, 67, 0.3), 0px 1px 3px 1px rgba(60, 64, 67, 0.15);\n",
              "      fill: #174EA6;\n",
              "    }\n",
              "\n",
              "    [theme=dark] .colab-df-convert {\n",
              "      background-color: #3B4455;\n",
              "      fill: #D2E3FC;\n",
              "    }\n",
              "\n",
              "    [theme=dark] .colab-df-convert:hover {\n",
              "      background-color: #434B5C;\n",
              "      box-shadow: 0px 1px 3px 1px rgba(0, 0, 0, 0.15);\n",
              "      filter: drop-shadow(0px 1px 2px rgba(0, 0, 0, 0.3));\n",
              "      fill: #FFFFFF;\n",
              "    }\n",
              "  </style>\n",
              "\n",
              "      <script>\n",
              "        const buttonEl =\n",
              "          document.querySelector('#df-ac69a767-6005-4971-a6d5-1668c5a09b82 button.colab-df-convert');\n",
              "        buttonEl.style.display =\n",
              "          google.colab.kernel.accessAllowed ? 'block' : 'none';\n",
              "\n",
              "        async function convertToInteractive(key) {\n",
              "          const element = document.querySelector('#df-ac69a767-6005-4971-a6d5-1668c5a09b82');\n",
              "          const dataTable =\n",
              "            await google.colab.kernel.invokeFunction('convertToInteractive',\n",
              "                                                     [key], {});\n",
              "          if (!dataTable) return;\n",
              "\n",
              "          const docLinkHtml = 'Like what you see? Visit the ' +\n",
              "            '<a target=\"_blank\" href=https://colab.research.google.com/notebooks/data_table.ipynb>data table notebook</a>'\n",
              "            + ' to learn more about interactive tables.';\n",
              "          element.innerHTML = '';\n",
              "          dataTable['output_type'] = 'display_data';\n",
              "          await google.colab.output.renderOutput(dataTable, element);\n",
              "          const docLink = document.createElement('div');\n",
              "          docLink.innerHTML = docLinkHtml;\n",
              "          element.appendChild(docLink);\n",
              "        }\n",
              "      </script>\n",
              "    </div>\n",
              "  </div>\n",
              "  "
            ]
          },
          "metadata": {},
          "execution_count": 20
        }
      ]
    },
    {
      "cell_type": "code",
      "source": [
        "df2 = df.copy()"
      ],
      "metadata": {
        "id": "HbwsT0fjx_0D"
      },
      "execution_count": 21,
      "outputs": []
    },
    {
      "cell_type": "code",
      "source": [
        "list_of_words = 'война'\n",
        "key_words = list_of_words.split()\n",
        "for war in key_words:\n",
        "    df2[war] = df2.lemm.apply(lambda x: war in tuple(x))\n",
        "df2 = df2[df2['война']]\n",
        "del df2['война'] \n",
        "df2"
      ],
      "metadata": {
        "colab": {
          "base_uri": "https://localhost:8080/",
          "height": 455
        },
        "id": "D3djjZjFHipd",
        "outputId": "329fe727-19d3-41db-e05b-7a8a68e4b9a8"
      },
      "execution_count": 24,
      "outputs": [
        {
          "output_type": "execute_result",
          "data": {
            "text/plain": [
              "                                                                                                           lemm\n",
              "date                                                                                                           \n",
              "1939-01-01  [кроме, день, парикмахер, зубной, врач, сидеть, дома, писать, восточный, война, страдать, грипп,...\n",
              "1939-01-02  [час, состояться, встреча, боец, участник, бой, озеро, хасан, встреча, показывать, кино, завтра,...\n",
              "1939-01-09  [утро, автомобиль, академия, наука, узкий, вместе, нечкина, опушать, снег, парк, предупредительн...\n",
              "1939-01-14  [русский, язык, вызывать, доска, ответ, получать, физика, получать, отлично, видеть, василий, со...\n",
              "1939-01-15  [купить, кайзер, кончать, читать, книга, давать, летун, купить, кайзер, автор, некто, теодор, пл...\n",
              "...                                                                                                         ...\n",
              "1953-11-26  [дата, автобиография, савченко, василий, алексеевич, рождаться, август, семья, крестьянин, село,...\n",
              "1953-11-29  [день, подряд, ездить, анна, петровна, утро, писать, диктовка, впечатление, хотеться, успевать, ...\n",
              "1953-12-01  [книга, прочитывать, начинать, лето, сентябрь, последующий, перечень, книга, объединять, фигурны...\n",
              "1953-12-22  [читать, письмо, толстой, время, война, мир, наслаждаться, ужасаться, степень, точность, требова...\n",
              "1953-12-30  [слово, легко, уступать, небытие, наличие, хороший, пан, нужный, дело, пастушечий, прутик, клок,...\n",
              "\n",
              "[10345 rows x 1 columns]"
            ],
            "text/html": [
              "\n",
              "  <div id=\"df-b7cc67c8-e7ee-4a2e-9dd5-30732e3d7d0b\">\n",
              "    <div class=\"colab-df-container\">\n",
              "      <div>\n",
              "<style scoped>\n",
              "    .dataframe tbody tr th:only-of-type {\n",
              "        vertical-align: middle;\n",
              "    }\n",
              "\n",
              "    .dataframe tbody tr th {\n",
              "        vertical-align: top;\n",
              "    }\n",
              "\n",
              "    .dataframe thead th {\n",
              "        text-align: right;\n",
              "    }\n",
              "</style>\n",
              "<table border=\"1\" class=\"dataframe\">\n",
              "  <thead>\n",
              "    <tr style=\"text-align: right;\">\n",
              "      <th></th>\n",
              "      <th>lemm</th>\n",
              "    </tr>\n",
              "    <tr>\n",
              "      <th>date</th>\n",
              "      <th></th>\n",
              "    </tr>\n",
              "  </thead>\n",
              "  <tbody>\n",
              "    <tr>\n",
              "      <th>1939-01-01</th>\n",
              "      <td>[кроме, день, парикмахер, зубной, врач, сидеть, дома, писать, восточный, война, страдать, грипп,...</td>\n",
              "    </tr>\n",
              "    <tr>\n",
              "      <th>1939-01-02</th>\n",
              "      <td>[час, состояться, встреча, боец, участник, бой, озеро, хасан, встреча, показывать, кино, завтра,...</td>\n",
              "    </tr>\n",
              "    <tr>\n",
              "      <th>1939-01-09</th>\n",
              "      <td>[утро, автомобиль, академия, наука, узкий, вместе, нечкина, опушать, снег, парк, предупредительн...</td>\n",
              "    </tr>\n",
              "    <tr>\n",
              "      <th>1939-01-14</th>\n",
              "      <td>[русский, язык, вызывать, доска, ответ, получать, физика, получать, отлично, видеть, василий, со...</td>\n",
              "    </tr>\n",
              "    <tr>\n",
              "      <th>1939-01-15</th>\n",
              "      <td>[купить, кайзер, кончать, читать, книга, давать, летун, купить, кайзер, автор, некто, теодор, пл...</td>\n",
              "    </tr>\n",
              "    <tr>\n",
              "      <th>...</th>\n",
              "      <td>...</td>\n",
              "    </tr>\n",
              "    <tr>\n",
              "      <th>1953-11-26</th>\n",
              "      <td>[дата, автобиография, савченко, василий, алексеевич, рождаться, август, семья, крестьянин, село,...</td>\n",
              "    </tr>\n",
              "    <tr>\n",
              "      <th>1953-11-29</th>\n",
              "      <td>[день, подряд, ездить, анна, петровна, утро, писать, диктовка, впечатление, хотеться, успевать, ...</td>\n",
              "    </tr>\n",
              "    <tr>\n",
              "      <th>1953-12-01</th>\n",
              "      <td>[книга, прочитывать, начинать, лето, сентябрь, последующий, перечень, книга, объединять, фигурны...</td>\n",
              "    </tr>\n",
              "    <tr>\n",
              "      <th>1953-12-22</th>\n",
              "      <td>[читать, письмо, толстой, время, война, мир, наслаждаться, ужасаться, степень, точность, требова...</td>\n",
              "    </tr>\n",
              "    <tr>\n",
              "      <th>1953-12-30</th>\n",
              "      <td>[слово, легко, уступать, небытие, наличие, хороший, пан, нужный, дело, пастушечий, прутик, клок,...</td>\n",
              "    </tr>\n",
              "  </tbody>\n",
              "</table>\n",
              "<p>10345 rows × 1 columns</p>\n",
              "</div>\n",
              "      <button class=\"colab-df-convert\" onclick=\"convertToInteractive('df-b7cc67c8-e7ee-4a2e-9dd5-30732e3d7d0b')\"\n",
              "              title=\"Convert this dataframe to an interactive table.\"\n",
              "              style=\"display:none;\">\n",
              "        \n",
              "  <svg xmlns=\"http://www.w3.org/2000/svg\" height=\"24px\"viewBox=\"0 0 24 24\"\n",
              "       width=\"24px\">\n",
              "    <path d=\"M0 0h24v24H0V0z\" fill=\"none\"/>\n",
              "    <path d=\"M18.56 5.44l.94 2.06.94-2.06 2.06-.94-2.06-.94-.94-2.06-.94 2.06-2.06.94zm-11 1L8.5 8.5l.94-2.06 2.06-.94-2.06-.94L8.5 2.5l-.94 2.06-2.06.94zm10 10l.94 2.06.94-2.06 2.06-.94-2.06-.94-.94-2.06-.94 2.06-2.06.94z\"/><path d=\"M17.41 7.96l-1.37-1.37c-.4-.4-.92-.59-1.43-.59-.52 0-1.04.2-1.43.59L10.3 9.45l-7.72 7.72c-.78.78-.78 2.05 0 2.83L4 21.41c.39.39.9.59 1.41.59.51 0 1.02-.2 1.41-.59l7.78-7.78 2.81-2.81c.8-.78.8-2.07 0-2.86zM5.41 20L4 18.59l7.72-7.72 1.47 1.35L5.41 20z\"/>\n",
              "  </svg>\n",
              "      </button>\n",
              "      \n",
              "  <style>\n",
              "    .colab-df-container {\n",
              "      display:flex;\n",
              "      flex-wrap:wrap;\n",
              "      gap: 12px;\n",
              "    }\n",
              "\n",
              "    .colab-df-convert {\n",
              "      background-color: #E8F0FE;\n",
              "      border: none;\n",
              "      border-radius: 50%;\n",
              "      cursor: pointer;\n",
              "      display: none;\n",
              "      fill: #1967D2;\n",
              "      height: 32px;\n",
              "      padding: 0 0 0 0;\n",
              "      width: 32px;\n",
              "    }\n",
              "\n",
              "    .colab-df-convert:hover {\n",
              "      background-color: #E2EBFA;\n",
              "      box-shadow: 0px 1px 2px rgba(60, 64, 67, 0.3), 0px 1px 3px 1px rgba(60, 64, 67, 0.15);\n",
              "      fill: #174EA6;\n",
              "    }\n",
              "\n",
              "    [theme=dark] .colab-df-convert {\n",
              "      background-color: #3B4455;\n",
              "      fill: #D2E3FC;\n",
              "    }\n",
              "\n",
              "    [theme=dark] .colab-df-convert:hover {\n",
              "      background-color: #434B5C;\n",
              "      box-shadow: 0px 1px 3px 1px rgba(0, 0, 0, 0.15);\n",
              "      filter: drop-shadow(0px 1px 2px rgba(0, 0, 0, 0.3));\n",
              "      fill: #FFFFFF;\n",
              "    }\n",
              "  </style>\n",
              "\n",
              "      <script>\n",
              "        const buttonEl =\n",
              "          document.querySelector('#df-b7cc67c8-e7ee-4a2e-9dd5-30732e3d7d0b button.colab-df-convert');\n",
              "        buttonEl.style.display =\n",
              "          google.colab.kernel.accessAllowed ? 'block' : 'none';\n",
              "\n",
              "        async function convertToInteractive(key) {\n",
              "          const element = document.querySelector('#df-b7cc67c8-e7ee-4a2e-9dd5-30732e3d7d0b');\n",
              "          const dataTable =\n",
              "            await google.colab.kernel.invokeFunction('convertToInteractive',\n",
              "                                                     [key], {});\n",
              "          if (!dataTable) return;\n",
              "\n",
              "          const docLinkHtml = 'Like what you see? Visit the ' +\n",
              "            '<a target=\"_blank\" href=https://colab.research.google.com/notebooks/data_table.ipynb>data table notebook</a>'\n",
              "            + ' to learn more about interactive tables.';\n",
              "          element.innerHTML = '';\n",
              "          dataTable['output_type'] = 'display_data';\n",
              "          await google.colab.output.renderOutput(dataTable, element);\n",
              "          const docLink = document.createElement('div');\n",
              "          docLink.innerHTML = docLinkHtml;\n",
              "          element.appendChild(docLink);\n",
              "        }\n",
              "      </script>\n",
              "    </div>\n",
              "  </div>\n",
              "  "
            ]
          },
          "metadata": {},
          "execution_count": 24
        }
      ]
    },
    {
      "cell_type": "code",
      "source": [
        "df2.to_csv('prozhito_lemmas.csv')"
      ],
      "metadata": {
        "id": "LR0f60cQIfoK"
      },
      "execution_count": 25,
      "outputs": []
    },
    {
      "cell_type": "code",
      "source": [
        "!zip prozhito_lemmas.zip prozhito_lemmas.csv"
      ],
      "metadata": {
        "colab": {
          "base_uri": "https://localhost:8080/"
        },
        "id": "-x-43R0h_uPx",
        "outputId": "00358dae-9a7e-40f9-84d3-22e692b169fb"
      },
      "execution_count": 26,
      "outputs": [
        {
          "output_type": "stream",
          "name": "stdout",
          "text": [
            "  adding: prozhito_lemmas.csv (deflated 79%)\n"
          ]
        }
      ]
    },
    {
      "cell_type": "code",
      "source": [
        "df2 = [\n",
        "    df2.loc[\n",
        "        pd.Timestamp('1939-1-1 00:00:00'): pd.Timestamp('1941-6-21 23:59:59')\n",
        "        ],\n",
        "    df2.loc[\n",
        "        pd.Timestamp('1941-6-22 00:00:00'): pd.Timestamp('1945-5-9 23:59:59')\n",
        "        ],\n",
        "    df2.loc[\n",
        "        pd.Timestamp('1945-5-10 00:00:00'): pd.Timestamp('1953-12-31 23:59:59')\n",
        "        ]]"
      ],
      "metadata": {
        "id": "hlOlsVgPEjJf"
      },
      "execution_count": 27,
      "outputs": []
    },
    {
      "cell_type": "code",
      "source": [
        "df2[1].head()"
      ],
      "metadata": {
        "colab": {
          "base_uri": "https://localhost:8080/",
          "height": 238
        },
        "id": "Ly1Vivn0F9Hr",
        "outputId": "3bc3e939-f715-4eef-c61a-339f321ab150"
      },
      "execution_count": 28,
      "outputs": [
        {
          "output_type": "execute_result",
          "data": {
            "text/plain": [
              "                                                                                                           lemm\n",
              "date                                                                                                           \n",
              "1941-06-22  [час, выступление, молотов, радио, война, германия, против, давно, ждать, уверенный, предсказыва...\n",
              "1941-06-22  [идти, репетиция, макаренко, разрешение, врываться, анор, тревожный, глухой, голос, сообщать, во...\n",
              "1941-06-22  [час, минута, страна, слышать, выступление, тов, молотов, сообщать, сегодня, час, утро, германск...\n",
              "1941-06-22  [ночь, присниться, сон, начинаться, война, идти, поле, окоп, окоп, вылезать, немец, идти, просып...\n",
              "1941-06-22  [война, начинаться, война, фашистский, германия, немец, переходить, граница, идти, бой, четыре, ..."
            ],
            "text/html": [
              "\n",
              "  <div id=\"df-3ea91104-99f9-4afd-85bf-d37d157b5cc5\">\n",
              "    <div class=\"colab-df-container\">\n",
              "      <div>\n",
              "<style scoped>\n",
              "    .dataframe tbody tr th:only-of-type {\n",
              "        vertical-align: middle;\n",
              "    }\n",
              "\n",
              "    .dataframe tbody tr th {\n",
              "        vertical-align: top;\n",
              "    }\n",
              "\n",
              "    .dataframe thead th {\n",
              "        text-align: right;\n",
              "    }\n",
              "</style>\n",
              "<table border=\"1\" class=\"dataframe\">\n",
              "  <thead>\n",
              "    <tr style=\"text-align: right;\">\n",
              "      <th></th>\n",
              "      <th>lemm</th>\n",
              "    </tr>\n",
              "    <tr>\n",
              "      <th>date</th>\n",
              "      <th></th>\n",
              "    </tr>\n",
              "  </thead>\n",
              "  <tbody>\n",
              "    <tr>\n",
              "      <th>1941-06-22</th>\n",
              "      <td>[час, выступление, молотов, радио, война, германия, против, давно, ждать, уверенный, предсказыва...</td>\n",
              "    </tr>\n",
              "    <tr>\n",
              "      <th>1941-06-22</th>\n",
              "      <td>[идти, репетиция, макаренко, разрешение, врываться, анор, тревожный, глухой, голос, сообщать, во...</td>\n",
              "    </tr>\n",
              "    <tr>\n",
              "      <th>1941-06-22</th>\n",
              "      <td>[час, минута, страна, слышать, выступление, тов, молотов, сообщать, сегодня, час, утро, германск...</td>\n",
              "    </tr>\n",
              "    <tr>\n",
              "      <th>1941-06-22</th>\n",
              "      <td>[ночь, присниться, сон, начинаться, война, идти, поле, окоп, окоп, вылезать, немец, идти, просып...</td>\n",
              "    </tr>\n",
              "    <tr>\n",
              "      <th>1941-06-22</th>\n",
              "      <td>[война, начинаться, война, фашистский, германия, немец, переходить, граница, идти, бой, четыре, ...</td>\n",
              "    </tr>\n",
              "  </tbody>\n",
              "</table>\n",
              "</div>\n",
              "      <button class=\"colab-df-convert\" onclick=\"convertToInteractive('df-3ea91104-99f9-4afd-85bf-d37d157b5cc5')\"\n",
              "              title=\"Convert this dataframe to an interactive table.\"\n",
              "              style=\"display:none;\">\n",
              "        \n",
              "  <svg xmlns=\"http://www.w3.org/2000/svg\" height=\"24px\"viewBox=\"0 0 24 24\"\n",
              "       width=\"24px\">\n",
              "    <path d=\"M0 0h24v24H0V0z\" fill=\"none\"/>\n",
              "    <path d=\"M18.56 5.44l.94 2.06.94-2.06 2.06-.94-2.06-.94-.94-2.06-.94 2.06-2.06.94zm-11 1L8.5 8.5l.94-2.06 2.06-.94-2.06-.94L8.5 2.5l-.94 2.06-2.06.94zm10 10l.94 2.06.94-2.06 2.06-.94-2.06-.94-.94-2.06-.94 2.06-2.06.94z\"/><path d=\"M17.41 7.96l-1.37-1.37c-.4-.4-.92-.59-1.43-.59-.52 0-1.04.2-1.43.59L10.3 9.45l-7.72 7.72c-.78.78-.78 2.05 0 2.83L4 21.41c.39.39.9.59 1.41.59.51 0 1.02-.2 1.41-.59l7.78-7.78 2.81-2.81c.8-.78.8-2.07 0-2.86zM5.41 20L4 18.59l7.72-7.72 1.47 1.35L5.41 20z\"/>\n",
              "  </svg>\n",
              "      </button>\n",
              "      \n",
              "  <style>\n",
              "    .colab-df-container {\n",
              "      display:flex;\n",
              "      flex-wrap:wrap;\n",
              "      gap: 12px;\n",
              "    }\n",
              "\n",
              "    .colab-df-convert {\n",
              "      background-color: #E8F0FE;\n",
              "      border: none;\n",
              "      border-radius: 50%;\n",
              "      cursor: pointer;\n",
              "      display: none;\n",
              "      fill: #1967D2;\n",
              "      height: 32px;\n",
              "      padding: 0 0 0 0;\n",
              "      width: 32px;\n",
              "    }\n",
              "\n",
              "    .colab-df-convert:hover {\n",
              "      background-color: #E2EBFA;\n",
              "      box-shadow: 0px 1px 2px rgba(60, 64, 67, 0.3), 0px 1px 3px 1px rgba(60, 64, 67, 0.15);\n",
              "      fill: #174EA6;\n",
              "    }\n",
              "\n",
              "    [theme=dark] .colab-df-convert {\n",
              "      background-color: #3B4455;\n",
              "      fill: #D2E3FC;\n",
              "    }\n",
              "\n",
              "    [theme=dark] .colab-df-convert:hover {\n",
              "      background-color: #434B5C;\n",
              "      box-shadow: 0px 1px 3px 1px rgba(0, 0, 0, 0.15);\n",
              "      filter: drop-shadow(0px 1px 2px rgba(0, 0, 0, 0.3));\n",
              "      fill: #FFFFFF;\n",
              "    }\n",
              "  </style>\n",
              "\n",
              "      <script>\n",
              "        const buttonEl =\n",
              "          document.querySelector('#df-3ea91104-99f9-4afd-85bf-d37d157b5cc5 button.colab-df-convert');\n",
              "        buttonEl.style.display =\n",
              "          google.colab.kernel.accessAllowed ? 'block' : 'none';\n",
              "\n",
              "        async function convertToInteractive(key) {\n",
              "          const element = document.querySelector('#df-3ea91104-99f9-4afd-85bf-d37d157b5cc5');\n",
              "          const dataTable =\n",
              "            await google.colab.kernel.invokeFunction('convertToInteractive',\n",
              "                                                     [key], {});\n",
              "          if (!dataTable) return;\n",
              "\n",
              "          const docLinkHtml = 'Like what you see? Visit the ' +\n",
              "            '<a target=\"_blank\" href=https://colab.research.google.com/notebooks/data_table.ipynb>data table notebook</a>'\n",
              "            + ' to learn more about interactive tables.';\n",
              "          element.innerHTML = '';\n",
              "          dataTable['output_type'] = 'display_data';\n",
              "          await google.colab.output.renderOutput(dataTable, element);\n",
              "          const docLink = document.createElement('div');\n",
              "          docLink.innerHTML = docLinkHtml;\n",
              "          element.appendChild(docLink);\n",
              "        }\n",
              "      </script>\n",
              "    </div>\n",
              "  </div>\n",
              "  "
            ]
          },
          "metadata": {},
          "execution_count": 28
        }
      ]
    },
    {
      "cell_type": "code",
      "source": [
        "period = ['before Great Patriotic War', 'Great Patriotic War', 'After Patriotic War']"
      ],
      "metadata": {
        "id": "mmmDFo4xGFew"
      },
      "execution_count": 29,
      "outputs": []
    },
    {
      "cell_type": "code",
      "source": [
        "for i, time in enumerate(period):\n",
        "    print(f'{time}:{\" \" * (20 - len(time))}\\t{df2[i].shape[0]} entries')"
      ],
      "metadata": {
        "colab": {
          "base_uri": "https://localhost:8080/"
        },
        "id": "OGqpjnkNGZek",
        "outputId": "e6383c88-adca-47b8-91ec-735061dd128e"
      },
      "execution_count": 30,
      "outputs": [
        {
          "output_type": "stream",
          "name": "stdout",
          "text": [
            "before Great Patriotic War:\t970 entries\n",
            "Great Patriotic War: \t8063 entries\n",
            "After Patriotic War: \t1312 entries\n"
          ]
        }
      ]
    },
    {
      "cell_type": "code",
      "source": [
        "for i, table in tqdm(enumerate(df2)):\n",
        "    table.to_csv(f'{i + 1}_{period[i].replace(\" \", \"_\")}.csv')"
      ],
      "metadata": {
        "colab": {
          "base_uri": "https://localhost:8080/",
          "height": 49,
          "referenced_widgets": [
            "6b54775756c74828a92674c2c74968af",
            "dde97c89e7b64b798eb3207f35a008bd",
            "facf01daa3ad4d718f06a57aa934317d",
            "bcaa11161c10474f8ee3bd2e5432755c",
            "6d162e16e9b547dba09bebb55c8572e2",
            "338898d02dc04061950ee19c64ee6c4c",
            "179ecbbce119427abc36bf77019162e1",
            "945b63fb46794e53b1e9a508665221fa",
            "6d3908efb63d4664975519d1fe4230e0",
            "d10e93ff7d274696a22f5b4ca063d250",
            "dec897d0c7154ffdb0020c6b0c0127f3"
          ]
        },
        "id": "ED-GEBRNG3Co",
        "outputId": "c7bf072f-3660-416f-a7da-5010665fce26"
      },
      "execution_count": 34,
      "outputs": [
        {
          "output_type": "display_data",
          "data": {
            "text/plain": [
              "0it [00:00, ?it/s]"
            ],
            "application/vnd.jupyter.widget-view+json": {
              "version_major": 2,
              "version_minor": 0,
              "model_id": "6b54775756c74828a92674c2c74968af"
            }
          },
          "metadata": {}
        }
      ]
    },
    {
      "cell_type": "code",
      "source": [
        "!rm whole_table_with_lemm.csv\n",
        "!rm prozhito_lemmas.csv\n",
        "!zip prozhito_periodization.zip *.csv"
      ],
      "metadata": {
        "colab": {
          "base_uri": "https://localhost:8080/"
        },
        "id": "fX0qJYF0I5AJ",
        "outputId": "7a4a8298-d93e-497d-905f-26283b9bac5b"
      },
      "execution_count": 35,
      "outputs": [
        {
          "output_type": "stream",
          "name": "stdout",
          "text": [
            "rm: cannot remove 'whole_table_with_lemm.csv': No such file or directory\n",
            "rm: cannot remove 'prozhito_lemmas.csv': No such file or directory\n",
            "  adding: 1_before_Great_Patriotic_War.csv (deflated 79%)\n",
            "  adding: 2_Great_Patriotic_War.csv (deflated 79%)\n",
            "  adding: 3_After_Patriotic_War.csv (deflated 79%)\n"
          ]
        }
      ]
    },
    {
      "cell_type": "code",
      "source": [
        "# код для загрузки архива таблиц для каждого периода\n",
        "\n",
        "prozhito_periodization = drive.CreateFile(\n",
        "   {'id': '1ghZXSjw92FIzpAIewSDZGkfJf8IpJ7u9'})\n",
        "prozhito_periodization.GetContentFile('prozhito_periodization.zip')"
      ],
      "metadata": {
        "id": "iDWAgzKCJGCB"
      },
      "execution_count": 36,
      "outputs": []
    },
    {
      "cell_type": "code",
      "source": [
        "models = []\n",
        "for table in df2:\n",
        "    data = list(table['lemm'])\n",
        "    id2word = Dictionary(data)\n",
        "    corpus = [id2word.doc2bow(text) for text in data]\n",
        "    model = LdaModel(corpus, num_topics=10, id2word=id2word, passes=15,\n",
        "                     iterations=100, per_word_topics=True)\n",
        "    models.append(model)\n",
        "    clear_output()\n",
        "    print(f'Моделей обучено: {len(models)}')"
      ],
      "metadata": {
        "colab": {
          "base_uri": "https://localhost:8080/"
        },
        "id": "1XasS3RUKEvs",
        "outputId": "79cf0dd3-58d7-4a07-8af8-6b664289e08c"
      },
      "execution_count": 40,
      "outputs": [
        {
          "output_type": "stream",
          "name": "stdout",
          "text": [
            "Моделей обучено: 3\n"
          ]
        }
      ]
    },
    {
      "cell_type": "code",
      "source": [
        "joblib.dump(models, 'prozhito_topic_modelling.pkl')"
      ],
      "metadata": {
        "colab": {
          "base_uri": "https://localhost:8080/"
        },
        "id": "cMNtcTsKOCPE",
        "outputId": "8c6da0e2-ba16-4461-92e5-76241a607f75"
      },
      "execution_count": 41,
      "outputs": [
        {
          "output_type": "execute_result",
          "data": {
            "text/plain": [
              "['prozhito_topic_modelling.pkl']"
            ]
          },
          "metadata": {},
          "execution_count": 41
        }
      ]
    },
    {
      "cell_type": "code",
      "source": [
        "!zip prozhito_topic_modelling.zip prozhito_topic_modelling.pkl"
      ],
      "metadata": {
        "colab": {
          "base_uri": "https://localhost:8080/"
        },
        "id": "2CNZy2-ZOEWP",
        "outputId": "5424b095-b7cd-4d09-ce38-770430767fd1"
      },
      "execution_count": 42,
      "outputs": [
        {
          "output_type": "stream",
          "name": "stdout",
          "text": [
            "  adding: prozhito_topic_modelling.pkl (deflated 44%)\n"
          ]
        }
      ]
    },
    {
      "cell_type": "code",
      "source": [
        "files.download('prozhito_topic_modelling.pkl')"
      ],
      "metadata": {
        "colab": {
          "base_uri": "https://localhost:8080/",
          "height": 17
        },
        "id": "MqjVb5O6OGWp",
        "outputId": "a499f51d-84b8-4ffb-a982-cedc639c7f6e"
      },
      "execution_count": 43,
      "outputs": [
        {
          "output_type": "display_data",
          "data": {
            "text/plain": [
              "<IPython.core.display.Javascript object>"
            ],
            "application/javascript": [
              "\n",
              "    async function download(id, filename, size) {\n",
              "      if (!google.colab.kernel.accessAllowed) {\n",
              "        return;\n",
              "      }\n",
              "      const div = document.createElement('div');\n",
              "      const label = document.createElement('label');\n",
              "      label.textContent = `Downloading \"${filename}\": `;\n",
              "      div.appendChild(label);\n",
              "      const progress = document.createElement('progress');\n",
              "      progress.max = size;\n",
              "      div.appendChild(progress);\n",
              "      document.body.appendChild(div);\n",
              "\n",
              "      const buffers = [];\n",
              "      let downloaded = 0;\n",
              "\n",
              "      const channel = await google.colab.kernel.comms.open(id);\n",
              "      // Send a message to notify the kernel that we're ready.\n",
              "      channel.send({})\n",
              "\n",
              "      for await (const message of channel.messages) {\n",
              "        // Send a message to notify the kernel that we're ready.\n",
              "        channel.send({})\n",
              "        if (message.buffers) {\n",
              "          for (const buffer of message.buffers) {\n",
              "            buffers.push(buffer);\n",
              "            downloaded += buffer.byteLength;\n",
              "            progress.value = downloaded;\n",
              "          }\n",
              "        }\n",
              "      }\n",
              "      const blob = new Blob(buffers, {type: 'application/binary'});\n",
              "      const a = document.createElement('a');\n",
              "      a.href = window.URL.createObjectURL(blob);\n",
              "      a.download = filename;\n",
              "      div.appendChild(a);\n",
              "      a.click();\n",
              "      div.remove();\n",
              "    }\n",
              "  "
            ]
          },
          "metadata": {}
        },
        {
          "output_type": "display_data",
          "data": {
            "text/plain": [
              "<IPython.core.display.Javascript object>"
            ],
            "application/javascript": [
              "download(\"download_95b9c151-2ce7-44b5-98f5-abbb3a240703\", \"prozhito_topic_modelling.pkl\", 17063324)"
            ]
          },
          "metadata": {}
        }
      ]
    },
    {
      "cell_type": "code",
      "source": [
        "\n",
        "pprint(models[0].print_topics())"
      ],
      "metadata": {
        "colab": {
          "base_uri": "https://localhost:8080/"
        },
        "id": "grvtHPKyOlBn",
        "outputId": "831bda8a-5d07-41ff-a401-8182b8581391"
      },
      "execution_count": 44,
      "outputs": [
        {
          "output_type": "stream",
          "name": "stdout",
          "text": [
            "[(0,\n",
            "  '0.011*\"война\" + 0.007*\"любовь\" + 0.007*\"мочь\" + 0.006*\"человек\" + '\n",
            "  '0.006*\"ляля\" + 0.006*\"сказать\" + 0.005*\"жизнь\" + 0.004*\"говорить\" + '\n",
            "  '0.004*\"год\" + 0.004*\"знать\"'),\n",
            " (1,\n",
            "  '0.010*\"война\" + 0.007*\"германия\" + 0.006*\"мочь\" + 0.006*\"гитлер\" + '\n",
            "  '0.005*\"англия\" + 0.005*\"франция\" + 0.004*\"год\" + 0.004*\"время\" + '\n",
            "  '0.004*\"день\" + 0.004*\"сегодня\"'),\n",
            " (2,\n",
            "  '0.005*\"день\" + 0.005*\"москва\" + 0.005*\"говорить\" + 0.004*\"год\" + '\n",
            "  '0.004*\"война\" + 0.004*\"мочь\" + 0.004*\"de\" + 0.004*\"человек\" + 0.004*\"финн\" '\n",
            "  '+ 0.003*\"гюнтер\"'),\n",
            " (3,\n",
            "  '0.006*\"мочь\" + 0.006*\"говорить\" + 0.005*\"самолет\" + 0.005*\"немецкий\" + '\n",
            "  '0.005*\"знать\" + 0.005*\"несколько\" + 0.004*\"сказать\" + 0.004*\"день\" + '\n",
            "  '0.004*\"видеть\" + 0.004*\"время\"'),\n",
            " (4,\n",
            "  '0.006*\"человек\" + 0.005*\"сказать\" + 0.004*\"война\" + 0.004*\"мочь\" + '\n",
            "  '0.004*\"говорить\" + 0.003*\"год\" + 0.003*\"покушение\" + 0.003*\"день\" + '\n",
            "  '0.003*\"время\" + 0.003*\"слово\"'),\n",
            " (5,\n",
            "  '0.009*\"немец\" + 0.007*\"война\" + 0.006*\"армия\" + 0.005*\"германский\" + '\n",
            "  '0.005*\"немецкий\" + 0.005*\"войско\" + 0.004*\"гитлер\" + 0.004*\"мочь\" + '\n",
            "  '0.004*\"день\" + 0.004*\"город\"'),\n",
            " (6,\n",
            "  '0.007*\"the\" + 0.006*\"война\" + 0.004*\"of\" + 0.003*\"человек\" + '\n",
            "  '0.003*\"галифакс\" + 0.003*\"to\" + 0.003*\"время\" + 0.003*\"день\" + '\n",
            "  '0.002*\"становиться\" + 0.002*\"год\"'),\n",
            " (7,\n",
            "  '0.007*\"отец\" + 0.007*\"дело\" + 0.006*\"война\" + 0.005*\"аля\" + 0.005*\"человек\" '\n",
            "  '+ 0.004*\"знать\" + 0.004*\"приезжать\" + 0.004*\"арестовывать\" + '\n",
            "  '0.003*\"говорить\" + 0.003*\"митька\"'),\n",
            " (8,\n",
            "  '0.012*\"война\" + 0.008*\"день\" + 0.006*\"сегодня\" + 0.005*\"час\" + '\n",
            "  '0.005*\"человек\" + 0.005*\"вечер\" + 0.004*\"год\" + 0.004*\"германия\" + '\n",
            "  '0.004*\"время\" + 0.004*\"утро\"'),\n",
            " (9,\n",
            "  '0.011*\"война\" + 0.006*\"немец\" + 0.004*\"сегодня\" + 0.004*\"германия\" + '\n",
            "  '0.003*\"сказать\" + 0.003*\"германский\" + 0.003*\"говорить\" + 0.003*\"немецкий\" '\n",
            "  '+ 0.003*\"мочь\" + 0.003*\"берлин\"')]\n"
          ]
        }
      ]
    },
    {
      "cell_type": "code",
      "source": [
        "\n",
        "pprint(models[1].print_topics())"
      ],
      "metadata": {
        "colab": {
          "base_uri": "https://localhost:8080/"
        },
        "id": "imaY9kLaOxqm",
        "outputId": "d1df0c6e-3bb6-4f51-ed32-1430667e0714"
      },
      "execution_count": 45,
      "outputs": [
        {
          "output_type": "stream",
          "name": "stdout",
          "text": [
            "[(0,\n",
            "  '0.025*\"день\" + 0.022*\"война\" + 0.021*\"победа\" + 0.010*\"год\" + 0.009*\"ночь\" '\n",
            "  '+ 0.007*\"ура\" + 0.007*\"друг\" + 0.006*\"кончаться\" + 0.006*\"город\" + '\n",
            "  '0.006*\"огромный\"'),\n",
            " (1,\n",
            "  '0.013*\"человек\" + 0.009*\"война\" + 0.008*\"жизнь\" + 0.008*\"мир\" + '\n",
            "  '0.007*\"мочь\" + 0.007*\"народ\" + 0.006*\"день\" + 0.006*\"русский\" + 0.006*\"год\" '\n",
            "  '+ 0.005*\"германия\"'),\n",
            " (2,\n",
            "  '0.012*\"война\" + 0.008*\"фронт\" + 0.007*\"год\" + 0.007*\"армия\" + '\n",
            "  '0.005*\"сталин\" + 0.005*\"советский\" + 0.005*\"германия\" + 0.005*\"военный\" + '\n",
            "  '0.004*\"мочь\" + 0.004*\"войско\"'),\n",
            " (3,\n",
            "  '0.015*\"день\" + 0.015*\"война\" + 0.012*\"сегодня\" + 0.009*\"хлеб\" + '\n",
            "  '0.008*\"немец\" + 0.007*\"час\" + 0.007*\"говорить\" + 0.006*\"москва\" + '\n",
            "  '0.006*\"город\" + 0.006*\"получать\"'),\n",
            " (4,\n",
            "  '0.012*\"час\" + 0.010*\"улица\" + 0.009*\"день\" + 0.009*\"победа\" + 0.008*\"война\" '\n",
            "  '+ 0.008*\"радио\" + 0.008*\"капитуляция\" + 0.007*\"площадь\" + 0.006*\"вечер\" + '\n",
            "  '0.006*\"май\"'),\n",
            " (5,\n",
            "  '0.009*\"день\" + 0.009*\"война\" + 0.007*\"мочь\" + 0.006*\"год\" + 0.006*\"жизнь\" + '\n",
            "  '0.006*\"человек\" + 0.005*\"время\" + 0.005*\"жить\" + 0.005*\"сказать\" + '\n",
            "  '0.005*\"знать\"'),\n",
            " (6,\n",
            "  '0.027*\"мао\" + 0.022*\"the\" + 0.022*\"кпк\" + 0.019*\"цзэ\" + 0.018*\"дун\" + '\n",
            "  '0.012*\"китай\" + 0.012*\"of\" + 0.010*\"чан\" + 0.010*\"ши\" + 0.010*\"and\"'),\n",
            " (7,\n",
            "  '0.008*\"немец\" + 0.005*\"идти\" + 0.005*\"человек\" + 0.004*\"день\" + '\n",
            "  '0.004*\"город\" + 0.004*\"командир\" + 0.004*\"дорога\" + 0.004*\"бой\" + '\n",
            "  '0.004*\"машина\" + 0.003*\"полк\"'),\n",
            " (8,\n",
            "  '0.016*\"de\" + 0.010*\"et\" + 0.010*\"la\" + 0.007*\"le\" + 0.007*\"que\" + '\n",
            "  '0.007*\"les\" + 0.006*\"je\" + 0.005*\"en\" + 0.005*\"брно\" + 0.004*\"лоремари\"'),\n",
            " (9,\n",
            "  '0.013*\"человек\" + 0.009*\"сказать\" + 0.009*\"ляля\" + 0.008*\"война\" + '\n",
            "  '0.008*\"мочь\" + 0.007*\"говорить\" + 0.006*\"бог\" + 0.006*\"понимать\" + '\n",
            "  '0.006*\"живой\" + 0.006*\"жизнь\"')]\n"
          ]
        }
      ]
    },
    {
      "cell_type": "code",
      "source": [
        "\n",
        "pprint(models[2].print_topics())"
      ],
      "metadata": {
        "colab": {
          "base_uri": "https://localhost:8080/"
        },
        "id": "rMgFrcfMOz-3",
        "outputId": "ccbb771b-5986-43c2-b0d7-65750c966c3e"
      },
      "execution_count": 46,
      "outputs": [
        {
          "output_type": "stream",
          "name": "stdout",
          "text": [
            "[(0,\n",
            "  '0.007*\"год\" + 0.005*\"сказать\" + 0.004*\"говорить\" + 0.004*\"день\" + '\n",
            "  '0.004*\"человек\" + 0.004*\"мочь\" + 0.004*\"время\" + 0.004*\"становиться\" + '\n",
            "  '0.003*\"идти\" + 0.003*\"знать\"'),\n",
            " (1,\n",
            "  '0.009*\"год\" + 0.007*\"человек\" + 0.006*\"война\" + 0.005*\"день\" + 0.005*\"мочь\" '\n",
            "  '+ 0.005*\"жизнь\" + 0.004*\"жить\" + 0.003*\"сказать\" + 0.003*\"время\" + '\n",
            "  '0.003*\"любовь\"'),\n",
            " (2,\n",
            "  '0.010*\"мао\" + 0.009*\"кпк\" + 0.008*\"цзэ\" + 0.007*\"дун\" + 0.006*\"партия\" + '\n",
            "  '0.005*\"съезд\" + 0.005*\"война\" + 0.004*\"советский\" + 0.004*\"цк\" + '\n",
            "  '0.004*\"китай\"'),\n",
            " (3,\n",
            "  '0.009*\"война\" + 0.005*\"человек\" + 0.005*\"время\" + 0.004*\"говорить\" + '\n",
            "  '0.004*\"день\" + 0.004*\"мочь\" + 0.004*\"год\" + 0.004*\"армия\" + 0.004*\"генерал\" '\n",
            "  '+ 0.003*\"япония\"'),\n",
            " (4,\n",
            "  '0.007*\"война\" + 0.004*\"день\" + 0.004*\"становиться\" + 0.004*\"время\" + '\n",
            "  '0.003*\"говорить\" + 0.003*\"человек\" + 0.003*\"сказать\" + 0.003*\"первый\" + '\n",
            "  '0.003*\"год\" + 0.002*\"мочь\"'),\n",
            " (5,\n",
            "  '0.009*\"человек\" + 0.005*\"год\" + 0.005*\"советский\" + 0.004*\"война\" + '\n",
            "  '0.004*\"работа\" + 0.004*\"мочь\" + 0.004*\"время\" + 0.003*\"мир\" + 0.003*\"жизнь\" '\n",
            "  '+ 0.003*\"говорить\"'),\n",
            " (6,\n",
            "  '0.008*\"день\" + 0.005*\"война\" + 0.005*\"говорить\" + 0.004*\"сказать\" + '\n",
            "  '0.004*\"час\" + 0.004*\"человек\" + 0.004*\"мочь\" + 0.003*\"год\" + 0.003*\"давать\" '\n",
            "  '+ 0.003*\"время\"'),\n",
            " (7,\n",
            "  '0.015*\"человек\" + 0.008*\"война\" + 0.007*\"мочь\" + 0.006*\"жизнь\" + '\n",
            "  '0.006*\"сережа\" + 0.005*\"мир\" + 0.005*\"опера\" + 0.004*\"время\" + '\n",
            "  '0.004*\"сказать\" + 0.004*\"день\"'),\n",
            " (8,\n",
            "  '0.009*\"война\" + 0.004*\"время\" + 0.004*\"человек\" + 0.004*\"год\" + '\n",
            "  '0.004*\"день\" + 0.004*\"говорить\" + 0.004*\"дело\" + 0.004*\"писать\" + '\n",
            "  '0.003*\"мочь\" + 0.003*\"история\"'),\n",
            " (9,\n",
            "  '0.009*\"человек\" + 0.008*\"война\" + 0.006*\"день\" + 0.006*\"время\" + '\n",
            "  '0.005*\"год\" + 0.004*\"мочь\" + 0.004*\"жизнь\" + 0.003*\"жить\" + 0.003*\"знать\" + '\n",
            "  '0.003*\"становиться\"')]\n"
          ]
        }
      ]
    }
  ]
}